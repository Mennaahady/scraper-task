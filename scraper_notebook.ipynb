{
 "cells": [
  {
   "cell_type": "code",
   "execution_count": 58,
   "metadata": {},
   "outputs": [],
   "source": [
    "import requests\n",
    "import pandas as pd"
   ]
  },
  {
   "cell_type": "code",
   "execution_count": 59,
   "metadata": {},
   "outputs": [],
   "source": [
    "api_url = 'http://127.0.0.1:5000/scrape'\n",
    "\n",
    "scrape_url = 'https://www.bol.com/nl/nl/l/audio-hifi/10714/'"
   ]
  },
  {
   "cell_type": "code",
   "execution_count": 60,
   "metadata": {},
   "outputs": [],
   "source": [
    "response = requests.post(api_url, json={'url': scrape_url})\n",
    "data = response.json()"
   ]
  },
  {
   "cell_type": "code",
   "execution_count": 61,
   "metadata": {},
   "outputs": [
    {
     "name": "stdout",
     "output_type": "stream",
     "text": [
      "Error: HTTPSConnectionPool(host='www.bol.com', port=443): Max retries exceeded with url: /nl/nl/l/audio-hifi/10714/ (Caused by ProxyError('Unable to connect to proxy', OSError('Tunnel connection failed: 405 Not Allowed')))\n"
     ]
    }
   ],
   "source": [
    "if 'error' in data:\n",
    "    print(f\"Error: {data['error']}\")\n",
    "else:\n",
    "    df = pd.DataFrame(data)\n",
    "    df.to_csv('scraped_products.csv', index=False)\n",
    "    print('Data saved to scraped_products.csv')"
   ]
  }
 ],
 "metadata": {
  "kernelspec": {
   "display_name": "Python 3",
   "language": "python",
   "name": "python3"
  },
  "language_info": {
   "codemirror_mode": {
    "name": "ipython",
    "version": 3
   },
   "file_extension": ".py",
   "mimetype": "text/x-python",
   "name": "python",
   "nbconvert_exporter": "python",
   "pygments_lexer": "ipython3",
   "version": "3.12.2"
  }
 },
 "nbformat": 4,
 "nbformat_minor": 2
}
